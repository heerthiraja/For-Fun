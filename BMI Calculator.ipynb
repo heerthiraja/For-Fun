{
 "cells": [
  {
   "cell_type": "markdown",
   "id": "a1fe154c",
   "metadata": {},
   "source": [
    "# BMI Calculator\n",
    "\n",
    "https://www.calculator.net/bmi-calculator.html"
   ]
  },
  {
   "cell_type": "code",
   "execution_count": 8,
   "id": "0007c7d4",
   "metadata": {},
   "outputs": [
    {
     "name": "stdout",
     "output_type": "stream",
     "text": [
      "Whats your name: Heerthi Raja H\n",
      "Enter your weight in pounds: 165\n",
      "Enter your weight in inches: 75\n",
      "20.621333333333332\n",
      "Heerthi Raja H, You are Normalweight, Live your life as your wish.\n"
     ]
    }
   ],
   "source": [
    "name= input(\"Whats your name: \")\n",
    "\n",
    "weight = int(input(\"Enter your weight in pounds: \"))\n",
    "\n",
    "height = int(input(\"Enter your weight in inches: \"))\n",
    "\n",
    "BMI = (weight* 703) / (height* height)\n",
    "\n",
    "print(BMI)\n",
    "\n",
    "if BMI>0:\n",
    "    if(BMI<18.5):\n",
    "        print(name +\", You are Underweight, Eat more man!\")\n",
    "    elif(BMI<=24.9):\n",
    "        print(name +\", You are Normalweight, Live your life as your wish.\")\n",
    "    elif(BMI<=29.9):\n",
    "        print(name +\", You are Overweight. You need to workout more\")\n",
    "    elif(BMI<=34.9):\n",
    "        print(name +\", You are Obese, You need to control your eating.\")\n",
    "    elif(BMI<=39.9):\n",
    "        print(name +\", You are Severely Obese, you want to consult doctor or a fitness coach.\")\n",
    "    else:\n",
    "        print(name +\", You are Morbidly Obeses, immediately consult doctor or do Operation.\")\n",
    "else:\n",
    "    print(\"Enter valid input\")"
   ]
  },
  {
   "cell_type": "code",
   "execution_count": 2,
   "id": "d8552a21",
   "metadata": {},
   "outputs": [
    {
     "name": "stdout",
     "output_type": "stream",
     "text": [
      "165\n"
     ]
    }
   ],
   "source": [
    "print(weight)"
   ]
  },
  {
   "cell_type": "code",
   "execution_count": 3,
   "id": "029f70a1",
   "metadata": {},
   "outputs": [],
   "source": [
    "#type(height)\n",
    "#type(weight)"
   ]
  },
  {
   "cell_type": "code",
   "execution_count": null,
   "id": "9ad32136",
   "metadata": {},
   "outputs": [],
   "source": []
  },
  {
   "cell_type": "code",
   "execution_count": 4,
   "id": "30e0fc20",
   "metadata": {},
   "outputs": [],
   "source": [
    "#BMI = (weight in pounds x 703) / (height in inches x height in inches)"
   ]
  },
  {
   "cell_type": "code",
   "execution_count": null,
   "id": "99aec9a4",
   "metadata": {},
   "outputs": [],
   "source": []
  },
  {
   "cell_type": "code",
   "execution_count": null,
   "id": "fc7c82fd",
   "metadata": {},
   "outputs": [],
   "source": []
  },
  {
   "cell_type": "markdown",
   "id": "5b1ddc5e",
   "metadata": {},
   "source": [
    "Under 18.5\tUnderweight\tMinimal\n",
    "18.5 - 24.9\tNormal Weight\tMinimal\n",
    "25 - 29.9\tOverweight\tIncreased\n",
    "30 - 34.9\tObese\tHigh\n",
    "35 - 39.9\tSeverely Obese\tVery High\n",
    "40 and over\tMorbidly Obese\tExtremely High"
   ]
  },
  {
   "cell_type": "code",
   "execution_count": 6,
   "id": "ebea5ac2",
   "metadata": {},
   "outputs": [
    {
     "name": "stdout",
     "output_type": "stream",
     "text": [
      "Heerthi, You are Normalweight\n"
     ]
    }
   ],
   "source": [
    "'''if BMI>0:\n",
    "    if(BMI<18.5):\n",
    "        print(name +\", You are Underweight\")\n",
    "    elif(BMI<=24.9):\n",
    "        print(name +\", You are Normalweight\")\n",
    "    elif(BMI<=29.9):\n",
    "        print(name +\", You are Overweight\")\n",
    "    elif(BMI<=34.9):\n",
    "        print(name +\", You are Obese\")\n",
    "    elif(BMI<=39.9):\n",
    "        print(name +\", You are Severely Obese\")\n",
    "    else:\n",
    "        print(name +\", You are Morbidly Obeses\")\n",
    "else:\n",
    "    print(\"Enter valid input\")'''"
   ]
  },
  {
   "cell_type": "code",
   "execution_count": null,
   "id": "4b31c9b9",
   "metadata": {},
   "outputs": [],
   "source": []
  },
  {
   "cell_type": "code",
   "execution_count": null,
   "id": "1c7d5803",
   "metadata": {},
   "outputs": [],
   "source": []
  }
 ],
 "metadata": {
  "kernelspec": {
   "display_name": "Python 3 (ipykernel)",
   "language": "python",
   "name": "python3"
  },
  "language_info": {
   "codemirror_mode": {
    "name": "ipython",
    "version": 3
   },
   "file_extension": ".py",
   "mimetype": "text/x-python",
   "name": "python",
   "nbconvert_exporter": "python",
   "pygments_lexer": "ipython3",
   "version": "3.10.4"
  }
 },
 "nbformat": 4,
 "nbformat_minor": 5
}
